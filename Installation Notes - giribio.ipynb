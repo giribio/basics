{
 "cells": [
  {
   "cell_type": "markdown",
   "metadata": {
    "colab": {
     "base_uri": "https://localhost:8080/",
     "height": 4117
    },
    "colab_type": "code",
    "id": "JCuCFW6z8wKv",
    "outputId": "b3cca613-7d35-4143-9766-97044753761c"
   },
   "source": [
    "# install conda in Linux\n",
    "!wget https://repo.continuum.io/miniconda/Miniconda3-latest-Linux-x86_64.sh\n",
    "!chmod ./Miniconda3-latest-Linux-x86_64.sh\n",
    "!time bash ./Miniconda3-latest-Linux-x86_64.sh -b -f -p /usr/local"
   ]
  },
  {
   "cell_type": "markdown",
   "metadata": {
    "colab": {
     "base_uri": "https://localhost:8080/",
     "height": 4117
    },
    "colab_type": "code",
    "id": "JCuCFW6z8wKv",
    "outputId": "b3cca613-7d35-4143-9766-97044753761c"
   },
   "source": [
    "# install conda in Windows\n",
    "wget https://repo.continuum.io/miniconda/Miniconda3-latest-Windows-x86_64.exe\n",
    "Miniconda3-latest-Windows-x86_64.exe"
   ]
  },
  {
   "cell_type": "markdown",
   "metadata": {
    "colab": {
     "base_uri": "https://localhost:8080/",
     "height": 4117
    },
    "colab_type": "code",
    "id": "JCuCFW6z8wKv",
    "outputId": "b3cca613-7d35-4143-9766-97044753761c"
   },
   "source": [
    "# install conda in Mac OSX\n",
    "!curl -O https://repo.continuum.io/miniconda/Miniconda3-latest-MacOSX-x86_64.sh\n",
    "!chmod ./Miniconda3-latest-MacOSX-x86_64.sh\n",
    "!time bash ./Miniconda3-latest-MacOSX-x86_64.sh"
   ]
  },
  {
   "cell_type": "code",
   "execution_count": 1,
   "metadata": {},
   "outputs": [
    {
     "name": "stdout",
     "output_type": "stream",
     "text": [
      "# packages in environment at /Applications/miniconda3:\r\n",
      "#\r\n",
      "# Name                    Version                   Build  Channel\r\n",
      "_tflow_select             2.3.0                       mkl  \r\n",
      "absl-py                   0.8.1                    py37_0  \r\n",
      "alabaster                 0.7.12                     py_0    conda-forge\r\n",
      "ambermini                 16.16.0                       7    omnia\r\n",
      "appnope                   0.1.0                    py37_0  \r\n",
      "asn1crypto                1.2.0                    py37_0  \r\n",
      "astor                     0.8.0                    py37_0  \r\n",
      "attrs                     19.3.0                     py_0  \r\n",
      "babel                     2.8.0                      py_0    conda-forge\r\n",
      "backcall                  0.1.0                    py37_0  \r\n",
      "blas                      1.0                         mkl  \r\n",
      "bleach                    3.1.0                    py37_0  \r\n",
      "blosc                     1.17.0               h6de7cb9_1    conda-forge\r\n",
      "bzip2                     1.0.8                h1de35cc_0  \r\n",
      "c-ares                    1.15.0            h1de35cc_1001  \r\n",
      "ca-certificates           2019.11.28           hecc5488_0    conda-forge\r\n",
      "cairo                     1.14.12              hc4e6be7_4  \r\n",
      "certifi                   2019.11.28               py37_0    conda-forge\r\n",
      "cffi                      1.13.2           py37hb5b8e2f_0  \r\n",
      "chardet                   3.0.4                 py37_1003  \r\n",
      "cmake                     3.14.0               haff7e42_0  \r\n",
      "conda                     4.8.0                    py37_1    conda-forge\r\n",
      "conda-package-handling    1.6.0            py37h1de35cc_0  \r\n",
      "cryptography              2.8              py37ha12b0ac_0  \r\n",
      "cycler                    0.10.0                   py37_0  \r\n",
      "cyjupyter                 0.2.0                    pypi_0    pypi\r\n",
      "dbus                      1.13.12              h90a0687_0  \r\n",
      "decorator                 4.4.1                      py_0  \r\n",
      "defusedxml                0.6.0                      py_0  \r\n",
      "docutils                  0.15.2                   py37_0    conda-forge\r\n",
      "eigen                     3.3.7                h04f5b5a_0  \r\n",
      "entrypoints               0.3                      py37_0  \r\n",
      "enum34                    1.1.6                    pypi_0    pypi\r\n",
      "expat                     2.2.6                h0a44026_0  \r\n",
      "fftw3f                    3.3.4                         2    omnia\r\n",
      "fontconfig                2.13.0               h5d5b041_1  \r\n",
      "freetype                  2.9.1                hb4e5f40_0  \r\n",
      "gast                      0.2.2                    py37_0  \r\n",
      "gettext                   0.19.8.1             h15daf44_3  \r\n",
      "glib                      2.63.1               hd977a24_0  \r\n",
      "google-pasta              0.1.8                      py_0  \r\n",
      "grpcio                    1.16.1           py37h044775b_1  \r\n",
      "h5py                      2.9.0            py37h3134771_0  \r\n",
      "hdf5                      1.10.4               hfa1e0ec_0  \r\n",
      "icu                       58.2                 h4b95b61_1  \r\n",
      "idna                      2.8                      py37_0  \r\n",
      "imagesize                 1.2.0                      py_0    conda-forge\r\n",
      "importlib_metadata        1.3.0                    py37_0  \r\n",
      "intel-openmp              2019.4                      233  \r\n",
      "ipykernel                 5.1.3            py37h39e3cac_0  \r\n",
      "ipython                   7.10.2           py37h39e3cac_0  \r\n",
      "ipython_genutils          0.2.0                    py37_0  \r\n",
      "ipywidgets                7.5.1                      py_0  \r\n",
      "jedi                      0.15.1                   py37_0  \r\n",
      "jinja2                    2.10.3                     py_0  \r\n",
      "joblib                    0.14.1                     py_0  \r\n",
      "jpeg                      9b                   he5867d9_2  \r\n",
      "jsonschema                3.2.0                    py37_0  \r\n",
      "jupyter                   1.0.0                    py37_7  \r\n",
      "jupyter_client            5.3.4                    py37_0  \r\n",
      "jupyter_console           6.0.0                    py37_0  \r\n",
      "jupyter_core              4.6.1                    py37_0  \r\n",
      "keras-applications        1.0.8                      py_0  \r\n",
      "keras-preprocessing       1.1.0                      py_1  \r\n",
      "kiwisolver                1.1.0            py37h0a44026_0  \r\n",
      "knime                     0.9.5                    pypi_0    pypi\r\n",
      "krb5                      1.16.4               hddcf347_0  \r\n",
      "libboost                  1.67.0               hebc422b_4  \r\n",
      "libcurl                   7.67.0               h051b688_0  \r\n",
      "libcxx                    4.0.1                hcfea43d_1  \r\n",
      "libcxxabi                 4.0.1                hcfea43d_1  \r\n",
      "libedit                   3.1.20181209         hb402a30_0  \r\n",
      "libffi                    3.2.1                h475c297_4  \r\n",
      "libgcc                    4.8.5               hdbeacc1_10    conda-forge\r\n",
      "libgfortran               3.0.1                h93005f0_2  \r\n",
      "libiconv                  1.15                 hdd342a3_7  \r\n",
      "libpng                    1.6.37               ha441bb4_0  \r\n",
      "libprotobuf               3.11.2               hd9629dc_0  \r\n",
      "libsodium                 1.0.16               h3efe00b_0  \r\n",
      "libssh2                   1.8.2                ha12b0ac_0  \r\n",
      "libtiff                   4.1.0                hcb84e12_0  \r\n",
      "libxml2                   2.9.9                hf6e021a_1  \r\n",
      "libxslt                   1.1.33               h33a18ac_0  \r\n",
      "llvm-openmp               4.0.1                hcfea43d_1  \r\n",
      "lxml                      4.4.2            py37hef8c89e_0  \r\n",
      "lzo                       2.10              h1de35cc_1000    conda-forge\r\n",
      "markdown                  3.1.1                    py37_0  \r\n",
      "markupsafe                1.1.1            py37h1de35cc_0  \r\n",
      "matplotlib                3.1.1            py37h54f8f79_0  \r\n",
      "mdtraj                    1.9.3            py37h5a8e3e4_0    conda-forge\r\n",
      "mistune                   0.8.4            py37h1de35cc_0  \r\n",
      "mkl                       2019.4                      233  \r\n",
      "mkl-service               2.3.0            py37hfbe908c_0  \r\n",
      "mkl_fft                   1.0.15           py37h5e564d8_0  \r\n",
      "mkl_random                1.1.0            py37ha771720_0  \r\n",
      "mock                      3.0.5                    py37_0    conda-forge\r\n",
      "modal                     0.3.5                    pypi_0    pypi\r\n",
      "more-itertools            8.0.2                      py_0  \r\n",
      "msgpack                   0.6.2                    pypi_0    pypi\r\n",
      "nbconvert                 5.6.1                    py37_0  \r\n",
      "nbformat                  4.4.0                    py37_0  \r\n",
      "ncurses                   6.1                  h0a44026_1  \r\n",
      "networkx                  2.4                        py_0    conda-forge\r\n",
      "nglview                   2.7.1                    pypi_0    pypi\r\n",
      "ninja                     1.9.0            py37h04f5b5a_0  \r\n",
      "notebook                  6.0.2                    py37_0  \r\n",
      "numexpr                   2.7.0            py37h86efe34_0    conda-forge\r\n",
      "numpy                     1.17.4           py37h890c691_0  \r\n",
      "numpy-base                1.17.4           py37h6575580_0  \r\n",
      "numpydoc                  0.9.2                      py_0    conda-forge\r\n",
      "olefile                   0.46                     py37_0  \r\n",
      "openforcefield            0.0.4                    py37_1    omnia\r\n",
      "openmm                    7.3.1           py37_cuda92_rc_2    omnia\r\n",
      "openmoltools              0.8.4                    py37_1    omnia\r\n",
      "openssl                   1.1.1d               h0b31af3_0    conda-forge\r\n",
      "opt_einsum                3.1.0                      py_0  \r\n",
      "packaging                 19.2                       py_0    conda-forge\r\n",
      "pandas                    0.25.3           py37h0a44026_0  \r\n",
      "pandas-ml                 0.6.1                    pypi_0    pypi\r\n",
      "pandoc                    2.2.3.2                       0  \r\n",
      "pandocfilters             1.4.2                    py37_1  \r\n",
      "parmed                    3.2.0                    py37_0    omnia\r\n",
      "parso                     0.5.2                      py_0  \r\n",
      "patsy                     0.5.1                    py37_0  \r\n",
      "pcre                      8.43                 h0a44026_0  \r\n",
      "pexpect                   4.7.0                    py37_0  \r\n",
      "pickleshare               0.7.5                    py37_0  \r\n",
      "pillow                    6.2.1            py37hb68e598_0  \r\n",
      "pint                      0.9                      pypi_0    pypi\r\n",
      "pip                       19.3.1                   py37_0  \r\n",
      "pixman                    0.38.0               h1de35cc_0  \r\n",
      "pkg-config                0.29.2               h3efe00b_8  \r\n",
      "plotly                    4.4.1                    pypi_0    pypi\r\n",
      "prometheus_client         0.7.1                      py_0  \r\n",
      "prompt_toolkit            2.0.9                    py37_0  \r\n",
      "protobuf                  3.11.2           py37h0a44026_0  \r\n",
      "ptyprocess                0.6.0                    py37_0  \r\n",
      "py-boost                  1.67.0           py37h6440ff4_4  \r\n",
      "pyarrow                   0.15.1                   pypi_0    pypi\r\n",
      "pycosat                   0.6.3            py37h1de35cc_0  \r\n",
      "pycparser                 2.19                     py37_0  \r\n",
      "pydantic                  1.3                      pypi_0    pypi\r\n",
      "pygments                  2.5.2                      py_0  \r\n",
      "pyopenssl                 19.1.0                   py37_0  \r\n",
      "pyparsing                 2.4.5                      py_0  \r\n",
      "pyqt                      5.9.2            py37h655552a_2  \r\n",
      "pyrsistent                0.15.6           py37h1de35cc_0  \r\n",
      "pysocks                   1.7.1                    py37_0  \r\n",
      "pytables                  3.6.1            py37h5bccee9_0  \r\n",
      "python                    3.7.4                h359304d_1  \r\n",
      "python-dateutil           2.8.1                      py_0  \r\n",
      "python.app                2                        py37_9  \r\n",
      "pytorch                   1.3.1                   py3.7_0    pytorch\r\n",
      "pytz                      2019.3                     py_0  \r\n",
      "pyyaml                    5.2                      pypi_0    pypi\r\n",
      "pyzmq                     18.1.0           py37h0a44026_0  \r\n",
      "qcelemental               0.12.0                   pypi_0    pypi\r\n",
      "qcportal                  0.12.3                   pypi_0    pypi\r\n",
      "qt                        5.9.7                h468cd18_1  \r\n",
      "qtconsole                 4.6.0                      py_0  \r\n",
      "rdkit                     2019.09.2.0      py37h65625ec_1    rdkit\r\n",
      "readline                  7.0                  h1de35cc_5  \r\n",
      "requests                  2.22.0                   py37_1  \r\n",
      "retrying                  1.3.3                    pypi_0    pypi\r\n",
      "rhash                     1.3.8                ha12b0ac_0  \r\n",
      "ruamel_yaml               0.15.87          py37h1de35cc_0  \r\n",
      "scikit-learn              0.21.3           py37h27c97d8_0  \r\n",
      "scipy                     1.3.1            py37h1410ff5_0  \r\n",
      "seaborn                   0.9.0              pyh91ea838_1  \r\n",
      "send2trash                1.5.0                    py37_0  \r\n",
      "setuptools                42.0.2                   py37_0  \r\n",
      "sip                       4.19.8           py37h0a44026_0  \r\n",
      "six                       1.13.0                   py37_0  \r\n",
      "snowballstemmer           2.0.0                      py_0    conda-forge\r\n",
      "sphinx                    2.3.1                      py_0    conda-forge\r\n",
      "sphinxcontrib-applehelp   1.0.1                      py_0    conda-forge\r\n",
      "sphinxcontrib-devhelp     1.0.1                      py_0    conda-forge\r\n",
      "sphinxcontrib-htmlhelp    1.0.2                      py_0    conda-forge\r\n",
      "sphinxcontrib-jsmath      1.0.1                      py_0    conda-forge\r\n",
      "sphinxcontrib-qthelp      1.0.2                      py_0    conda-forge\r\n",
      "sphinxcontrib-serializinghtml 1.1.3                      py_0    conda-forge\r\n",
      "sqlite                    3.30.1               ha441bb4_0  \r\n",
      "statsmodels               0.10.1           py37h1d22016_0  \r\n",
      "tensorboard               2.0.0              pyhb38c66f_1  \r\n",
      "tensorflow                2.0.0           mkl_py37hda344b4_0  \r\n",
      "tensorflow-base           2.0.0           mkl_py37h66b1bf0_0  \r\n",
      "tensorflow-estimator      2.0.0              pyh2649769_0  \r\n",
      "termcolor                 1.1.0                    py37_1  \r\n",
      "terminado                 0.8.3                    py37_0  \r\n",
      "testpath                  0.4.4                      py_0  \r\n",
      "tk                        8.6.8                ha441bb4_0  \r\n",
      "torchvision               0.4.2                  py37_cpu    pytorch\r\n",
      "tornado                   6.0.3            py37h1de35cc_0  \r\n",
      "tqdm                      4.40.2                     py_0  \r\n",
      "traitlets                 4.3.3                    py37_0  \r\n",
      "umap                      0.1.1                    pypi_0    pypi\r\n",
      "urllib3                   1.25.7                   py37_0  \r\n",
      "wcwidth                   0.1.7                    py37_0  \r\n",
      "webencodings              0.5.1                    py37_1  \r\n",
      "werkzeug                  0.16.0                     py_0  \r\n",
      "wheel                     0.33.6                   py37_0  \r\n",
      "widgetsnbextension        3.5.1                    py37_0  \r\n",
      "wrapt                     1.11.2           py37h1de35cc_0  \r\n",
      "xz                        5.2.4                h1de35cc_4  \r\n",
      "yaml                      0.1.7                hc338f04_2  \r\n",
      "zeromq                    4.3.1                h0a44026_3  \r\n",
      "zipp                      0.6.0                      py_0  \r\n",
      "zlib                      1.2.11               h1de35cc_3  \r\n",
      "zstd                      1.3.7                h5bba6e5_0  \r\n"
     ]
    }
   ],
   "source": [
    "# check conda installation\n",
    "!time conda list"
   ]
  },
  {
   "cell_type": "code",
   "execution_count": null,
   "metadata": {
    "colab": {
     "base_uri": "https://localhost:8080/",
     "height": 51
    },
    "colab_type": "code",
    "id": "ggtQAzswDPHT",
    "outputId": "0e0e5934-f27d-4db2-c4d2-d8fe8d1c0de2"
   },
   "outputs": [],
   "source": [
    "# add additonal channels to conda\n",
    "!time conda config --add channels omnia --add channels conda-forge"
   ]
  },
  {
   "cell_type": "code",
   "execution_count": null,
   "metadata": {},
   "outputs": [],
   "source": [
    "# install rdkit via conda command\n",
    "!time conda install -c conda-forge rdkit -y"
   ]
  },
  {
   "cell_type": "code",
   "execution_count": 2,
   "metadata": {},
   "outputs": [
    {
     "name": "stdout",
     "output_type": "stream",
     "text": [
      "Collecting package metadata (current_repodata.json): done\n",
      "Solving environment: done\n",
      "/bin/sh: line 1: 63770 Segmentation fault: 11  conda install numpy scipy scikit-learn torchvision tensorflow matplotlib\n",
      "\n",
      "real\t0m39.446s\n",
      "user\t0m12.183s\n",
      "sys\t0m1.843s\n"
     ]
    }
   ],
   "source": [
    "# install other libs via conda command\n",
    "!time conda install numpy scipy scikit-learn torchvision tensorflow matplotlib"
   ]
  },
  {
   "cell_type": "code",
   "execution_count": 3,
   "metadata": {
    "colab": {
     "base_uri": "https://localhost:8080/",
     "height": 1394
    },
    "colab_type": "code",
    "id": "udUafipaDcfR",
    "outputId": "58f45c96-fa7a-4fb8-8207-baf4f62f5a4f"
   },
   "outputs": [
    {
     "name": "stdout",
     "output_type": "stream",
     "text": [
      "Collecting package metadata (current_repodata.json): done\n",
      "Solving environment: done\n",
      "\n",
      "# All requested packages already installed.\n",
      "\n",
      "\n",
      "real\t0m12.901s\n",
      "user\t0m9.426s\n",
      "sys\t0m1.358s\n"
     ]
    }
   ],
   "source": [
    "# install other libs via conda command\n",
    "!time conda install -y openforcefield"
   ]
  },
  {
   "cell_type": "code",
   "execution_count": 6,
   "metadata": {
    "colab": {
     "base_uri": "https://localhost:8080/",
     "height": 1394
    },
    "colab_type": "code",
    "id": "udUafipaDcfR",
    "outputId": "58f45c96-fa7a-4fb8-8207-baf4f62f5a4f"
   },
   "outputs": [
    {
     "name": "stdout",
     "output_type": "stream",
     "text": [
      "Requirement already satisfied: modAL in /Applications/miniconda3/lib/python3.7/site-packages (0.3.5)\n",
      "Requirement already satisfied: pandas_ml in /Applications/miniconda3/lib/python3.7/site-packages (0.6.1)\n",
      "Requirement already satisfied: umap in /Applications/miniconda3/lib/python3.7/site-packages (0.1.1)\n",
      "Requirement already satisfied: networkx in /Applications/miniconda3/lib/python3.7/site-packages (2.4)\n",
      "Collecting pybrain\n",
      "  Using cached https://files.pythonhosted.org/packages/be/42/b40b64b7163d360425692db2f15a8c1d8fe4a18f1c5626cf7fcb5f5d5fb6/PyBrain-0.3.tar.gz\n",
      "Collecting pytable\n",
      "  Using cached https://files.pythonhosted.org/packages/10/5e/bf835ddc7130ed7ec42f18a6af42990a5430280f88c1249d1aa8c38735b1/pytable-0.8.23a.tar.gz\n",
      "Requirement already satisfied: scipy>=0.18 in /Applications/miniconda3/lib/python3.7/site-packages (from modAL) (1.3.1)\n",
      "Requirement already satisfied: numpy>=1.13 in /Applications/miniconda3/lib/python3.7/site-packages (from modAL) (1.17.4)\n",
      "Requirement already satisfied: scikit-learn>=0.18 in /Applications/miniconda3/lib/python3.7/site-packages (from modAL) (0.21.3)\n",
      "Requirement already satisfied: enum34 in /Applications/miniconda3/lib/python3.7/site-packages (from pandas_ml) (1.1.6)\n",
      "Requirement already satisfied: pandas>=0.19.0 in /Applications/miniconda3/lib/python3.7/site-packages (from pandas_ml) (0.25.3)\n",
      "Requirement already satisfied: decorator>=4.3.0 in /Applications/miniconda3/lib/python3.7/site-packages (from networkx) (4.4.1)\n",
      "\u001b[31mERROR: Could not find a version that satisfies the requirement basicproperty>=0.6.9a (from pytable) (from versions: none)\u001b[0m\n",
      "\u001b[31mERROR: No matching distribution found for basicproperty>=0.6.9a (from pytable)\u001b[0m\n",
      "\n",
      "real\t0m2.465s\n",
      "user\t0m1.215s\n",
      "sys\t0m0.544s\n"
     ]
    }
   ],
   "source": [
    "# install other libs via pip command\n",
    "!time pip install modAL pandas_ml umap networkx pybrain"
   ]
  },
  {
   "cell_type": "code",
   "execution_count": null,
   "metadata": {
    "colab": {
     "base_uri": "https://localhost:8080/",
     "height": 85
    },
    "colab_type": "code",
    "id": "0DU8XtRnDEzy",
    "outputId": "737af562-7b27-441f-8e15-b7a8260c6174"
   },
   "outputs": [],
   "source": [
    "#for Linux (please uncomment next line)\n",
    "#!nvcc --version"
   ]
  },
  {
   "cell_type": "code",
   "execution_count": null,
   "metadata": {
    "colab": {},
    "colab_type": "code",
    "id": "3lWVxaA3Is41"
   },
   "outputs": [],
   "source": []
  }
 ],
 "metadata": {
  "accelerator": "GPU",
  "colab": {
   "include_colab_link": true,
   "name": "OpenFF_test.ipynb",
   "provenance": [],
   "version": "0.3.2"
  },
  "kernelspec": {
   "display_name": "Python 3",
   "language": "python",
   "name": "python3"
  },
  "language_info": {
   "codemirror_mode": {
    "name": "ipython",
    "version": 3
   },
   "file_extension": ".py",
   "mimetype": "text/x-python",
   "name": "python",
   "nbconvert_exporter": "python",
   "pygments_lexer": "ipython3",
   "version": "3.7.4"
  }
 },
 "nbformat": 4,
 "nbformat_minor": 1
}
