{
 "cells": [
  {
   "cell_type": "code",
   "execution_count": null,
   "metadata": {
    "colab": {
     "base_uri": "https://localhost:8080/",
     "height": 4117
    },
  {
   "cell_type": "code",
   "execution_count": null,
   "metadata": {},
   "outputs": [],
   "source": [
    "# check conda installation\n",
    "!time conda list"
   ]
  },
  {
   "cell_type": "code",
   "execution_count": null,
   "metadata": {
    "colab": {
     "base_uri": "https://localhost:8080/",
     "height": 51
    },
    "colab_type": "code",
    "id": "ggtQAzswDPHT",
    "outputId": "0e0e5934-f27d-4db2-c4d2-d8fe8d1c0de2"
   },
   "outputs": [],
   "source": [
    "# add additonal channels to conda\n",
    "!time conda config --add channels omnia --add channels conda-forge"
   ]
  },
  {
   "cell_type": "code",
   "execution_count": null,
   "metadata": {},
   "outputs": [],
   "source": [
    "# install rdkit via conda command\n",
    "!time conda install -c conda-forge rdkit -y"
   ]
  },
  {
   "cell_type": "code",
   "execution_count": null,
   "metadata": {},
   "outputs": [],
   "source": [
    "# install other libs via conda command\n",
    "!time conda install numpy scipy scikit-learn torchvision tensorflow matplotlib"
   ]
  },
  {
   "cell_type": "code",
   "execution_count": null,
   "metadata": {
    "colab": {
     "base_uri": "https://localhost:8080/",
     "height": 1394
    },
    "colab_type": "code",
    "id": "udUafipaDcfR",
    "outputId": "58f45c96-fa7a-4fb8-8207-baf4f62f5a4f"
   },
   "outputs": [],
   "source": [
    "# install other libs via conda command\n",
    "!time conda install -y openforcefield"
   ]
  },
  {
   "cell_type": "code",
   "execution_count": null,
   "metadata": {
    "colab": {
     "base_uri": "https://localhost:8080/",
     "height": 1394
    },
    "colab_type": "code",
    "id": "udUafipaDcfR",
    "outputId": "58f45c96-fa7a-4fb8-8207-baf4f62f5a4f"
   },
   "outputs": [],
   "source": [
    "# install other libs via pip command\n",
    "!time pip install modAL pandas_ml umap networkx pybrain"
   ]
  },
  {
   "cell_type": "code",
   "execution_count": null,
   "metadata": {
    "colab": {
     "base_uri": "https://localhost:8080/",
     "height": 85
    },
    "colab_type": "code",
    "id": "0DU8XtRnDEzy",
    "outputId": "737af562-7b27-441f-8e15-b7a8260c6174"
   },
   "outputs": [],
   "source": [
    "#for Linux (please uncomment next line)\n",
    "#!nvcc --version"
   ]
  }
 ],
 "metadata": {
  "accelerator": "GPU",
  "colab": {
   "include_colab_link": true,
   "name": "OpenFF_test.ipynb",
   "provenance": [],
   "version": "0.3.2"
  },
  "kernelspec": {
   "display_name": "Python 3",
   "language": "python",
   "name": "python3"
  },
  "language_info": {
   "codemirror_mode": {
    "name": "ipython",
    "version": 3
   },
   "file_extension": ".py",
   "mimetype": "text/x-python",
   "name": "python",
   "nbconvert_exporter": "python",
   "pygments_lexer": "ipython3",
   "version": "3.7.4"
  }
 },
 "nbformat": 4,
 "nbformat_minor": 1
}
